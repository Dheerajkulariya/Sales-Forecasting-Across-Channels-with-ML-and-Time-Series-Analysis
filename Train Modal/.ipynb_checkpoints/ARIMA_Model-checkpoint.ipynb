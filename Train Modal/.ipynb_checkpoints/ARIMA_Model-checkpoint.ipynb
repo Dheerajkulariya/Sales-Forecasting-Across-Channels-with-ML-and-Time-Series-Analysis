{
 "cells": [
  {
   "cell_type": "markdown",
   "id": "d3c5700b",
   "metadata": {},
   "source": [
    "## Time Serise Forecasting with ARIMA"
   ]
  },
  {
   "cell_type": "code",
   "execution_count": 1,
   "id": "b83d3fea",
   "metadata": {},
   "outputs": [],
   "source": [
    "import pandas as pd\n",
    "import numpy as np\n",
    "import matplotlib.pyplot as plt"
   ]
  },
  {
   "cell_type": "markdown",
   "id": "67303c69",
   "metadata": {},
   "source": [
    "### Step1: Read the data"
   ]
  },
  {
   "cell_type": "code",
   "execution_count": 2,
   "id": "bdbd4c46",
   "metadata": {},
   "outputs": [],
   "source": [
    "df = pd.read_csv(\"Assignment_Dataset_Brandintelle_Final_Data.csv\", parse_dates=['DATE'], index_col=['DATE'])"
   ]
  },
  {
   "cell_type": "code",
   "execution_count": 3,
   "id": "75671ab1",
   "metadata": {},
   "outputs": [
    {
     "data": {
      "text/html": [
       "<div>\n",
       "<style scoped>\n",
       "    .dataframe tbody tr th:only-of-type {\n",
       "        vertical-align: middle;\n",
       "    }\n",
       "\n",
       "    .dataframe tbody tr th {\n",
       "        vertical-align: top;\n",
       "    }\n",
       "\n",
       "    .dataframe thead th {\n",
       "        text-align: right;\n",
       "    }\n",
       "</style>\n",
       "<table border=\"1\" class=\"dataframe\">\n",
       "  <thead>\n",
       "    <tr style=\"text-align: right;\">\n",
       "      <th></th>\n",
       "      <th>Sr No</th>\n",
       "      <th>Sales</th>\n",
       "      <th>TV_Spends</th>\n",
       "      <th>OOH_Spends</th>\n",
       "      <th>Print_Spends</th>\n",
       "      <th>FB_Spends</th>\n",
       "      <th>FB_Impressions</th>\n",
       "      <th>Search_Spends</th>\n",
       "      <th>Paid_Search_Clicks</th>\n",
       "      <th>competitor_sales_B</th>\n",
       "      <th>events</th>\n",
       "    </tr>\n",
       "    <tr>\n",
       "      <th>DATE</th>\n",
       "      <th></th>\n",
       "      <th></th>\n",
       "      <th></th>\n",
       "      <th></th>\n",
       "      <th></th>\n",
       "      <th></th>\n",
       "      <th></th>\n",
       "      <th></th>\n",
       "      <th></th>\n",
       "      <th></th>\n",
       "      <th></th>\n",
       "    </tr>\n",
       "  </thead>\n",
       "  <tbody>\n",
       "    <tr>\n",
       "      <th>2015-11-23</th>\n",
       "      <td>1</td>\n",
       "      <td>2754371</td>\n",
       "      <td>167687</td>\n",
       "      <td>0</td>\n",
       "      <td>95463</td>\n",
       "      <td>228213</td>\n",
       "      <td>72903852</td>\n",
       "      <td>0</td>\n",
       "      <td>0</td>\n",
       "      <td>8125009</td>\n",
       "      <td>na</td>\n",
       "    </tr>\n",
       "    <tr>\n",
       "      <th>2015-11-30</th>\n",
       "      <td>2</td>\n",
       "      <td>2584276</td>\n",
       "      <td>214600</td>\n",
       "      <td>0</td>\n",
       "      <td>0</td>\n",
       "      <td>34258</td>\n",
       "      <td>16581099</td>\n",
       "      <td>31000</td>\n",
       "      <td>29511</td>\n",
       "      <td>7901549</td>\n",
       "      <td>na</td>\n",
       "    </tr>\n",
       "    <tr>\n",
       "      <th>2015-12-07</th>\n",
       "      <td>3</td>\n",
       "      <td>2547386</td>\n",
       "      <td>0</td>\n",
       "      <td>248022</td>\n",
       "      <td>3404</td>\n",
       "      <td>127691</td>\n",
       "      <td>49954773</td>\n",
       "      <td>28400</td>\n",
       "      <td>36132</td>\n",
       "      <td>8300197</td>\n",
       "      <td>event0</td>\n",
       "    </tr>\n",
       "    <tr>\n",
       "      <th>2015-12-14</th>\n",
       "      <td>4</td>\n",
       "      <td>2875220</td>\n",
       "      <td>625877</td>\n",
       "      <td>0</td>\n",
       "      <td>132600</td>\n",
       "      <td>84014</td>\n",
       "      <td>31649297</td>\n",
       "      <td>31900</td>\n",
       "      <td>36804</td>\n",
       "      <td>8122883</td>\n",
       "      <td>na</td>\n",
       "    </tr>\n",
       "    <tr>\n",
       "      <th>2015-12-21</th>\n",
       "      <td>5</td>\n",
       "      <td>2215953</td>\n",
       "      <td>0</td>\n",
       "      <td>520005</td>\n",
       "      <td>0</td>\n",
       "      <td>20687</td>\n",
       "      <td>8802269</td>\n",
       "      <td>27100</td>\n",
       "      <td>28401</td>\n",
       "      <td>7105985</td>\n",
       "      <td>na</td>\n",
       "    </tr>\n",
       "    <tr>\n",
       "      <th>2015-12-28</th>\n",
       "      <td>6</td>\n",
       "      <td>2569921</td>\n",
       "      <td>249189</td>\n",
       "      <td>0</td>\n",
       "      <td>239417</td>\n",
       "      <td>160110</td>\n",
       "      <td>49902081</td>\n",
       "      <td>28300</td>\n",
       "      <td>38061</td>\n",
       "      <td>7097237</td>\n",
       "      <td>na</td>\n",
       "    </tr>\n",
       "    <tr>\n",
       "      <th>2016-01-04</th>\n",
       "      <td>7</td>\n",
       "      <td>2171506</td>\n",
       "      <td>5152</td>\n",
       "      <td>425163</td>\n",
       "      <td>0</td>\n",
       "      <td>108690</td>\n",
       "      <td>41147695</td>\n",
       "      <td>27800</td>\n",
       "      <td>36289</td>\n",
       "      <td>6974368</td>\n",
       "      <td>na</td>\n",
       "    </tr>\n",
       "    <tr>\n",
       "      <th>2016-01-11</th>\n",
       "      <td>8</td>\n",
       "      <td>2464131</td>\n",
       "      <td>22141</td>\n",
       "      <td>0</td>\n",
       "      <td>176859</td>\n",
       "      <td>123894</td>\n",
       "      <td>56554690</td>\n",
       "      <td>32000</td>\n",
       "      <td>34765</td>\n",
       "      <td>7452174</td>\n",
       "      <td>na</td>\n",
       "    </tr>\n",
       "    <tr>\n",
       "      <th>2016-01-18</th>\n",
       "      <td>9</td>\n",
       "      <td>2012520</td>\n",
       "      <td>0</td>\n",
       "      <td>0</td>\n",
       "      <td>0</td>\n",
       "      <td>108690</td>\n",
       "      <td>35730563</td>\n",
       "      <td>22900</td>\n",
       "      <td>28023</td>\n",
       "      <td>6703566</td>\n",
       "      <td>na</td>\n",
       "    </tr>\n",
       "    <tr>\n",
       "      <th>2016-01-25</th>\n",
       "      <td>10</td>\n",
       "      <td>1738911</td>\n",
       "      <td>0</td>\n",
       "      <td>0</td>\n",
       "      <td>84329</td>\n",
       "      <td>90080</td>\n",
       "      <td>31861260</td>\n",
       "      <td>22900</td>\n",
       "      <td>21069</td>\n",
       "      <td>5535394</td>\n",
       "      <td>na</td>\n",
       "    </tr>\n",
       "  </tbody>\n",
       "</table>\n",
       "</div>"
      ],
      "text/plain": [
       "            Sr No    Sales  TV_Spends  OOH_Spends  Print_Spends  FB_Spends  \\\n",
       "DATE                                                                         \n",
       "2015-11-23      1  2754371     167687           0         95463     228213   \n",
       "2015-11-30      2  2584276     214600           0             0      34258   \n",
       "2015-12-07      3  2547386          0      248022          3404     127691   \n",
       "2015-12-14      4  2875220     625877           0        132600      84014   \n",
       "2015-12-21      5  2215953          0      520005             0      20687   \n",
       "2015-12-28      6  2569921     249189           0        239417     160110   \n",
       "2016-01-04      7  2171506       5152      425163             0     108690   \n",
       "2016-01-11      8  2464131      22141           0        176859     123894   \n",
       "2016-01-18      9  2012520          0           0             0     108690   \n",
       "2016-01-25     10  1738911          0           0         84329      90080   \n",
       "\n",
       "            FB_Impressions  Search_Spends  Paid_Search_Clicks  \\\n",
       "DATE                                                            \n",
       "2015-11-23        72903852              0                   0   \n",
       "2015-11-30        16581099          31000               29511   \n",
       "2015-12-07        49954773          28400               36132   \n",
       "2015-12-14        31649297          31900               36804   \n",
       "2015-12-21         8802269          27100               28401   \n",
       "2015-12-28        49902081          28300               38061   \n",
       "2016-01-04        41147695          27800               36289   \n",
       "2016-01-11        56554690          32000               34765   \n",
       "2016-01-18        35730563          22900               28023   \n",
       "2016-01-25        31861260          22900               21069   \n",
       "\n",
       "            competitor_sales_B  events  \n",
       "DATE                                    \n",
       "2015-11-23             8125009      na  \n",
       "2015-11-30             7901549      na  \n",
       "2015-12-07             8300197  event0  \n",
       "2015-12-14             8122883      na  \n",
       "2015-12-21             7105985      na  \n",
       "2015-12-28             7097237      na  \n",
       "2016-01-04             6974368      na  \n",
       "2016-01-11             7452174      na  \n",
       "2016-01-18             6703566      na  \n",
       "2016-01-25             5535394      na  "
      ]
     },
     "execution_count": 3,
     "metadata": {},
     "output_type": "execute_result"
    }
   ],
   "source": [
    "df.head(10)"
   ]
  },
  {
   "cell_type": "markdown",
   "id": "d41cd006",
   "metadata": {},
   "source": [
    "### Step2: Resample"
   ]
  },
  {
   "cell_type": "markdown",
   "id": "c19a4e98",
   "metadata": {},
   "source": [
    "- Aggregation of data\n",
    "- Daily>Monthly\n",
    "- Monthly>Annual"
   ]
  },
  {
   "cell_type": "code",
   "execution_count": 4,
   "id": "4ae47205",
   "metadata": {},
   "outputs": [
    {
     "data": {
      "text/html": [
       "<div>\n",
       "<style scoped>\n",
       "    .dataframe tbody tr th:only-of-type {\n",
       "        vertical-align: middle;\n",
       "    }\n",
       "\n",
       "    .dataframe tbody tr th {\n",
       "        vertical-align: top;\n",
       "    }\n",
       "\n",
       "    .dataframe thead th {\n",
       "        text-align: right;\n",
       "    }\n",
       "</style>\n",
       "<table border=\"1\" class=\"dataframe\">\n",
       "  <thead>\n",
       "    <tr style=\"text-align: right;\">\n",
       "      <th></th>\n",
       "      <th>Sales</th>\n",
       "    </tr>\n",
       "    <tr>\n",
       "      <th>DATE</th>\n",
       "      <th></th>\n",
       "    </tr>\n",
       "  </thead>\n",
       "  <tbody>\n",
       "    <tr>\n",
       "      <th>2015-11-01</th>\n",
       "      <td>5338647</td>\n",
       "    </tr>\n",
       "    <tr>\n",
       "      <th>2015-12-01</th>\n",
       "      <td>10208480</td>\n",
       "    </tr>\n",
       "    <tr>\n",
       "      <th>2016-01-01</th>\n",
       "      <td>8387068</td>\n",
       "    </tr>\n",
       "    <tr>\n",
       "      <th>2016-02-01</th>\n",
       "      <td>8552300</td>\n",
       "    </tr>\n",
       "    <tr>\n",
       "      <th>2016-03-01</th>\n",
       "      <td>6654776</td>\n",
       "    </tr>\n",
       "    <tr>\n",
       "      <th>2016-04-01</th>\n",
       "      <td>4317661</td>\n",
       "    </tr>\n",
       "    <tr>\n",
       "      <th>2016-05-01</th>\n",
       "      <td>5579664</td>\n",
       "    </tr>\n",
       "    <tr>\n",
       "      <th>2016-06-01</th>\n",
       "      <td>3326019</td>\n",
       "    </tr>\n",
       "    <tr>\n",
       "      <th>2016-07-01</th>\n",
       "      <td>4803133</td>\n",
       "    </tr>\n",
       "    <tr>\n",
       "      <th>2016-08-01</th>\n",
       "      <td>7937138</td>\n",
       "    </tr>\n",
       "    <tr>\n",
       "      <th>2016-09-01</th>\n",
       "      <td>8505630</td>\n",
       "    </tr>\n",
       "    <tr>\n",
       "      <th>2016-10-01</th>\n",
       "      <td>12529286</td>\n",
       "    </tr>\n",
       "    <tr>\n",
       "      <th>2016-11-01</th>\n",
       "      <td>11822249</td>\n",
       "    </tr>\n",
       "    <tr>\n",
       "      <th>2016-12-01</th>\n",
       "      <td>11011008</td>\n",
       "    </tr>\n",
       "    <tr>\n",
       "      <th>2017-01-01</th>\n",
       "      <td>11533040</td>\n",
       "    </tr>\n",
       "    <tr>\n",
       "      <th>2017-02-01</th>\n",
       "      <td>7156852</td>\n",
       "    </tr>\n",
       "    <tr>\n",
       "      <th>2017-03-01</th>\n",
       "      <td>5295107</td>\n",
       "    </tr>\n",
       "    <tr>\n",
       "      <th>2017-04-01</th>\n",
       "      <td>5517308</td>\n",
       "    </tr>\n",
       "    <tr>\n",
       "      <th>2017-05-01</th>\n",
       "      <td>5703291</td>\n",
       "    </tr>\n",
       "    <tr>\n",
       "      <th>2017-06-01</th>\n",
       "      <td>3544406</td>\n",
       "    </tr>\n",
       "    <tr>\n",
       "      <th>2017-07-01</th>\n",
       "      <td>6361842</td>\n",
       "    </tr>\n",
       "    <tr>\n",
       "      <th>2017-08-01</th>\n",
       "      <td>7234751</td>\n",
       "    </tr>\n",
       "    <tr>\n",
       "      <th>2017-09-01</th>\n",
       "      <td>8445774</td>\n",
       "    </tr>\n",
       "    <tr>\n",
       "      <th>2017-10-01</th>\n",
       "      <td>12795127</td>\n",
       "    </tr>\n",
       "    <tr>\n",
       "      <th>2017-11-01</th>\n",
       "      <td>12617274</td>\n",
       "    </tr>\n",
       "    <tr>\n",
       "      <th>2017-12-01</th>\n",
       "      <td>11280967</td>\n",
       "    </tr>\n",
       "    <tr>\n",
       "      <th>2018-01-01</th>\n",
       "      <td>11320933</td>\n",
       "    </tr>\n",
       "    <tr>\n",
       "      <th>2018-02-01</th>\n",
       "      <td>7163327</td>\n",
       "    </tr>\n",
       "    <tr>\n",
       "      <th>2018-03-01</th>\n",
       "      <td>5812651</td>\n",
       "    </tr>\n",
       "    <tr>\n",
       "      <th>2018-04-01</th>\n",
       "      <td>6071203</td>\n",
       "    </tr>\n",
       "    <tr>\n",
       "      <th>2018-05-01</th>\n",
       "      <td>5259005</td>\n",
       "    </tr>\n",
       "    <tr>\n",
       "      <th>2018-06-01</th>\n",
       "      <td>3873635</td>\n",
       "    </tr>\n",
       "    <tr>\n",
       "      <th>2018-07-01</th>\n",
       "      <td>6325049</td>\n",
       "    </tr>\n",
       "    <tr>\n",
       "      <th>2018-08-01</th>\n",
       "      <td>6626590</td>\n",
       "    </tr>\n",
       "    <tr>\n",
       "      <th>2018-09-01</th>\n",
       "      <td>8472199</td>\n",
       "    </tr>\n",
       "    <tr>\n",
       "      <th>2018-10-01</th>\n",
       "      <td>13342292</td>\n",
       "    </tr>\n",
       "    <tr>\n",
       "      <th>2018-11-01</th>\n",
       "      <td>10648497</td>\n",
       "    </tr>\n",
       "    <tr>\n",
       "      <th>2018-12-01</th>\n",
       "      <td>13020871</td>\n",
       "    </tr>\n",
       "    <tr>\n",
       "      <th>2019-01-01</th>\n",
       "      <td>9505185</td>\n",
       "    </tr>\n",
       "    <tr>\n",
       "      <th>2019-02-01</th>\n",
       "      <td>7692224</td>\n",
       "    </tr>\n",
       "    <tr>\n",
       "      <th>2019-03-01</th>\n",
       "      <td>5315350</td>\n",
       "    </tr>\n",
       "    <tr>\n",
       "      <th>2019-04-01</th>\n",
       "      <td>6506037</td>\n",
       "    </tr>\n",
       "    <tr>\n",
       "      <th>2019-05-01</th>\n",
       "      <td>3375694</td>\n",
       "    </tr>\n",
       "    <tr>\n",
       "      <th>2019-06-01</th>\n",
       "      <td>3146991</td>\n",
       "    </tr>\n",
       "    <tr>\n",
       "      <th>2019-07-01</th>\n",
       "      <td>5729370</td>\n",
       "    </tr>\n",
       "    <tr>\n",
       "      <th>2019-08-01</th>\n",
       "      <td>6614739</td>\n",
       "    </tr>\n",
       "    <tr>\n",
       "      <th>2019-09-01</th>\n",
       "      <td>11702445</td>\n",
       "    </tr>\n",
       "    <tr>\n",
       "      <th>2019-10-01</th>\n",
       "      <td>9521932</td>\n",
       "    </tr>\n",
       "    <tr>\n",
       "      <th>2019-11-01</th>\n",
       "      <td>5500613</td>\n",
       "    </tr>\n",
       "  </tbody>\n",
       "</table>\n",
       "</div>"
      ],
      "text/plain": [
       "               Sales\n",
       "DATE                \n",
       "2015-11-01   5338647\n",
       "2015-12-01  10208480\n",
       "2016-01-01   8387068\n",
       "2016-02-01   8552300\n",
       "2016-03-01   6654776\n",
       "2016-04-01   4317661\n",
       "2016-05-01   5579664\n",
       "2016-06-01   3326019\n",
       "2016-07-01   4803133\n",
       "2016-08-01   7937138\n",
       "2016-09-01   8505630\n",
       "2016-10-01  12529286\n",
       "2016-11-01  11822249\n",
       "2016-12-01  11011008\n",
       "2017-01-01  11533040\n",
       "2017-02-01   7156852\n",
       "2017-03-01   5295107\n",
       "2017-04-01   5517308\n",
       "2017-05-01   5703291\n",
       "2017-06-01   3544406\n",
       "2017-07-01   6361842\n",
       "2017-08-01   7234751\n",
       "2017-09-01   8445774\n",
       "2017-10-01  12795127\n",
       "2017-11-01  12617274\n",
       "2017-12-01  11280967\n",
       "2018-01-01  11320933\n",
       "2018-02-01   7163327\n",
       "2018-03-01   5812651\n",
       "2018-04-01   6071203\n",
       "2018-05-01   5259005\n",
       "2018-06-01   3873635\n",
       "2018-07-01   6325049\n",
       "2018-08-01   6626590\n",
       "2018-09-01   8472199\n",
       "2018-10-01  13342292\n",
       "2018-11-01  10648497\n",
       "2018-12-01  13020871\n",
       "2019-01-01   9505185\n",
       "2019-02-01   7692224\n",
       "2019-03-01   5315350\n",
       "2019-04-01   6506037\n",
       "2019-05-01   3375694\n",
       "2019-06-01   3146991\n",
       "2019-07-01   5729370\n",
       "2019-08-01   6614739\n",
       "2019-09-01  11702445\n",
       "2019-10-01   9521932\n",
       "2019-11-01   5500613"
      ]
     },
     "execution_count": 4,
     "metadata": {},
     "output_type": "execute_result"
    }
   ],
   "source": [
    "ts = df[['Sales']].resample('MS').sum() # Weekly Sales to mounthly sales\n",
    "ts"
   ]
  },
  {
   "cell_type": "code",
   "execution_count": 5,
   "id": "7a959961",
   "metadata": {},
   "outputs": [
    {
     "name": "stdout",
     "output_type": "stream",
     "text": [
      "<class 'pandas.core.frame.DataFrame'>\n",
      "DatetimeIndex: 49 entries, 2015-11-01 to 2019-11-01\n",
      "Freq: MS\n",
      "Data columns (total 1 columns):\n",
      " #   Column  Non-Null Count  Dtype\n",
      "---  ------  --------------  -----\n",
      " 0   Sales   49 non-null     int64\n",
      "dtypes: int64(1)\n",
      "memory usage: 784.0 bytes\n"
     ]
    }
   ],
   "source": [
    "ts.info()"
   ]
  },
  {
   "cell_type": "code",
   "execution_count": 6,
   "id": "f2ada955",
   "metadata": {},
   "outputs": [
    {
     "data": {
      "text/plain": [
       "<AxesSubplot:xlabel='DATE'>"
      ]
     },
     "execution_count": 6,
     "metadata": {},
     "output_type": "execute_result"
    },
    {
     "data": {
      "image/png": "[encoded data removed]",
      "text/plain": [
       "<Figure size 432x288 with 1 Axes>"
      ]
     },
     "metadata": {
      "needs_background": "light"
     },
     "output_type": "display_data"
    }
   ],
   "source": [
    "ts.plot()"
   ]
  },
  {
   "cell_type": "markdown",
   "id": "5c7c7e9d",
   "metadata": {},
   "source": [
    "### Step3: Stationarity Check"
   ]
  },
  {
   "cell_type": "code",
   "execution_count": 7,
   "id": "42327bff",
   "metadata": {},
   "outputs": [],
   "source": [
    "import statsmodels.api as sm"
   ]
  },
  {
   "cell_type": "code",
   "execution_count": 8,
   "id": "4d2b4a15",
   "metadata": {},
   "outputs": [
    {
     "data": {
      "image/png": "[encoded data removed]",
      "text/plain": [
       "<Figure size 432x288 with 4 Axes>"
      ]
     },
     "metadata": {
      "needs_background": "light"
     },
     "output_type": "display_data"
    }
   ],
   "source": [
    "decomposition = sm.tsa.seasonal_decompose(ts, model = 'additive')\n",
    "fig = decomposition.plot()\n",
    "plt.show()"
   ]
  },
  {
   "cell_type": "code",
   "execution_count": 9,
   "id": "cc750e1d",
   "metadata": {},
   "outputs": [],
   "source": [
    "# Adfuller test\n",
    "from statsmodels.tsa.stattools import adfuller"
   ]
  },
  {
   "cell_type": "code",
   "execution_count": 10,
   "id": "6b626009",
   "metadata": {},
   "outputs": [],
   "source": [
    "adftest = adfuller(ts['Sales'])"
   ]
  },
  {
   "cell_type": "code",
   "execution_count": 11,
   "id": "25b5c6f0",
   "metadata": {},
   "outputs": [],
   "source": [
    "#print('pvalue of adfuller test is: ', adftest[1])\n",
    "#H0 = It is non stationary\n",
    "#H1 = It is stationary\n",
    "\n",
    "def adfuller_test(Sales):\n",
    "    result = adfuller(Sales)\n",
    "    labels = ['ADF Test Statistic', 'p-value','#Lags Used', 'Number of Observations Used']\n",
    "    for value,label in zip(result,labels):\n",
    "        print(label+' : '+str(value) )\n",
    "    if result[1] <= 0.05:\n",
    "        print(\"strong evidence against the null hypothesis(Ho), reject the null hypothesis. Data has no unit root and is stationary\")\n",
    "    else:\n",
    "        print(\"weak evidence against null hypothesis, time series has a unit root, indicating it is non satationary\")"
   ]
  },
  {
   "cell_type": "code",
   "execution_count": 12,
   "id": "f08340e1",
   "metadata": {},
   "outputs": [
    {
     "name": "stdout",
     "output_type": "stream",
     "text": [
      "ADF Test Statistic : -3.4065369033034183\n",
      "p-value : 0.010738037324607437\n",
      "#Lags Used : 8\n",
      "Number of Observations Used : 40\n",
      "strong evidence against the null hypothesis(Ho), reject the null hypothesis. Data has no unit root and is stationary\n"
     ]
    }
   ],
   "source": [
    "adfuller_test(ts['Sales'])"
   ]
  },
  {
   "cell_type": "markdown",
   "id": "a9215faf",
   "metadata": {},
   "source": [
    "#### So over data is stationary pvalue of adfuller test is lower than 0.05"
   ]
  },
  {
   "cell_type": "markdown",
   "id": "362f803c",
   "metadata": {},
   "source": [
    "### Step4: Train test split"
   ]
  },
  {
   "cell_type": "code",
   "execution_count": 13,
   "id": "b8aedd37",
   "metadata": {},
   "outputs": [
    {
     "data": {
      "text/plain": [
       "49"
      ]
     },
     "execution_count": 13,
     "metadata": {},
     "output_type": "execute_result"
    }
   ],
   "source": [
    "len(ts)"
   ]
  },
  {
   "cell_type": "code",
   "execution_count": 14,
   "id": "5c90a1f5",
   "metadata": {},
   "outputs": [],
   "source": [
    "train = ts[:32]  # 2015-11-01 to 2018-06-01 \n",
    "test = ts[32:]   # 2018-07-01 to 2019-11-01"
   ]
  },
  {
   "cell_type": "markdown",
   "id": "83a48426",
   "metadata": {},
   "source": [
    "### ARIMA Model Building:"
   ]
  },
  {
   "cell_type": "markdown",
   "id": "6ac7bf0f",
   "metadata": {},
   "source": [
    "ARIMA model has 3 components:\n",
    "1. AR: Autoregression\n",
    "2. MA: Moving Average\n",
    "3. Integarted: Differencing\n",
    "\n",
    "- Regression with its past values\n",
    "    - Yt = a + b1Yt-1 + b3Yt-2 + b3Yt-3 + Error1\n",
    "    - SalesDec = a + b1SalesNov + b3SalesOct + b3SalesSep + Error1\n",
    "   \n",
    "- P = ORDER OF AR; p = 3 that means yt is dependent on past 3 periods.\n",
    "- P from PACF Plot.\n",
    "- PACF is a plot that shows the correlation of a series with its lagged values.\n",
    "\n",
    "\n"
   ]
  },
  {
   "cell_type": "code",
   "execution_count": null,
   "id": "eb39b23d",
   "metadata": {},
   "outputs": [],
   "source": [
    "# Seasonal first difference\n",
    "#ts['Seasonal_First_Difference'] = ts['Sales'] - ts['Sales'].shift(12)\n",
    "#ts"
   ]
  },
  {
   "cell_type": "markdown",
   "id": "72b607a9",
   "metadata": {},
   "source": [
    "### Auto Regressive Model|"
   ]
  },
  {
   "cell_type": "code",
   "execution_count": 15,
   "id": "1fac437a",
   "metadata": {},
   "outputs": [
    {
     "data": {
      "image/png": "[encoded data removed]",
      "text/plain": [
       "<Figure size 432x288 with 1 Axes>"
      ]
     },
     "metadata": {
      "needs_background": "light"
     },
     "output_type": "display_data"
    }
   ],
   "source": [
    "from pandas.plotting import autocorrelation_plot #Package pandas.tools.plotting was moved to pandas.plotting\n",
    "autocorrelation_plot(ts['Sales'])\n",
    "plt.show()"
   ]
  },
  {
   "cell_type": "code",
   "execution_count": 16,
   "id": "6b0b6dd9",
   "metadata": {},
   "outputs": [],
   "source": [
    "from statsmodels.graphics.tsaplots import plot_acf,plot_pacf"
   ]
  },
  {
   "cell_type": "code",
   "execution_count": 30,
   "id": "95c42cbb",
   "metadata": {},
   "outputs": [
    {
     "name": "stderr",
     "output_type": "stream",
     "text": [
      "C:\\Users\\Asus\\anaconda3\\lib\\site-packages\\statsmodels\\graphics\\tsaplots.py:348: FutureWarning: The default method 'yw' can produce PACF values outside of the [-1,1] interval. After 0.13, the default will change tounadjusted Yule-Walker ('ywm'). You can use this method now by setting method='ywm'.\n",
      "  warnings.warn(\n"
     ]
    },
    {
     "data": {
      "image/png": "[encoded data removed]",
      "text/plain": [
       "<Figure size 864x576 with 2 Axes>"
      ]
     },
     "metadata": {
      "needs_background": "light"
     },
     "output_type": "display_data"
    }
   ],
   "source": [
    "fig = plt.figure(figsize = (12,8))\n",
    "ax1 = fig.add_subplot(211)\n",
    "fig = sm.graphics.tsa.plot_acf(ts['Sales'],lags = 20, ax = ax1)\n",
    "ax2 = fig.add_subplot(212)\n",
    "fig = sm.graphics.tsa.plot_pacf(ts['Sales'],lags = 20, ax = ax2)"
   ]
  },
  {
   "cell_type": "code",
   "execution_count": 37,
   "id": "66472696",
   "metadata": {},
   "outputs": [],
   "source": [
    "# For non seasonal data\n",
    "#p = 1, d = 1, q = 0 or 1\n",
    "from statsmodels.tsa.arima.model import ARIMA "
   ]
  },
  {
   "cell_type": "code",
   "execution_count": 39,
   "id": "c0da9172",
   "metadata": {},
   "outputs": [],
   "source": [
    "model = ARIMA(ts, order = (1,1,1))\n",
    "model_fit = model.fit()"
   ]
  },
  {
   "cell_type": "code",
   "execution_count": 40,
   "id": "c477bf80",
   "metadata": {},
   "outputs": [
    {
     "data": {
      "text/html": [
       "<table class=\"simpletable\">\n",
       "<caption>SARIMAX Results</caption>\n",
       "<tr>\n",
       "  <th>Dep. Variable:</th>         <td>Sales</td>      <th>  No. Observations:  </th>    <td>49</td>   \n",
       "</tr>\n",
       "<tr>\n",
       "  <th>Model:</th>            <td>ARIMA(1, 1, 1)</td>  <th>  Log Likelihood     </th> <td>-771.997</td>\n",
       "</tr>\n",
       "<tr>\n",
       "  <th>Date:</th>            <td>Thu, 20 Apr 2023</td> <th>  AIC                </th> <td>1549.993</td>\n",
       "</tr>\n",
       "<tr>\n",
       "  <th>Time:</th>                <td>15:05:47</td>     <th>  BIC                </th> <td>1555.607</td>\n",
       "</tr>\n",
       "<tr>\n",
       "  <th>Sample:</th>             <td>11-01-2015</td>    <th>  HQIC               </th> <td>1552.115</td>\n",
       "</tr>\n",
       "<tr>\n",
       "  <th></th>                   <td>- 11-01-2019</td>   <th>                     </th>     <td> </td>   \n",
       "</tr>\n",
       "<tr>\n",
       "  <th>Covariance Type:</th>        <td>opg</td>       <th>                     </th>     <td> </td>   \n",
       "</tr>\n",
       "</table>\n",
       "<table class=\"simpletable\">\n",
       "<tr>\n",
       "     <td></td>       <th>coef</th>     <th>std err</th>      <th>z</th>      <th>P>|z|</th>  <th>[0.025</th>    <th>0.975]</th>  \n",
       "</tr>\n",
       "<tr>\n",
       "  <th>ar.L1</th>  <td>    0.7345</td> <td>    0.165</td> <td>    4.458</td> <td> 0.000</td> <td>    0.412</td> <td>    1.057</td>\n",
       "</tr>\n",
       "<tr>\n",
       "  <th>ma.L1</th>  <td>   -0.9920</td> <td>    0.254</td> <td>   -3.908</td> <td> 0.000</td> <td>   -1.489</td> <td>   -0.495</td>\n",
       "</tr>\n",
       "<tr>\n",
       "  <th>sigma2</th> <td> 5.724e+12</td> <td> 4.37e-14</td> <td> 1.31e+26</td> <td> 0.000</td> <td> 5.72e+12</td> <td> 5.72e+12</td>\n",
       "</tr>\n",
       "</table>\n",
       "<table class=\"simpletable\">\n",
       "<tr>\n",
       "  <th>Ljung-Box (L1) (Q):</th>     <td>0.20</td> <th>  Jarque-Bera (JB):  </th> <td>1.94</td>\n",
       "</tr>\n",
       "<tr>\n",
       "  <th>Prob(Q):</th>                <td>0.66</td> <th>  Prob(JB):          </th> <td>0.38</td>\n",
       "</tr>\n",
       "<tr>\n",
       "  <th>Heteroskedasticity (H):</th> <td>1.18</td> <th>  Skew:              </th> <td>0.47</td>\n",
       "</tr>\n",
       "<tr>\n",
       "  <th>Prob(H) (two-sided):</th>    <td>0.74</td> <th>  Kurtosis:          </th> <td>2.69</td>\n",
       "</tr>\n",
       "</table><br/><br/>Warnings:<br/>[1] Covariance matrix calculated using the outer product of gradients (complex-step).<br/>[2] Covariance matrix is singular or near-singular, with condition number 2.5e+41. Standard errors may be unstable."
      ],
      "text/plain": [
       "<class 'statsmodels.iolib.summary.Summary'>\n",
       "\"\"\"\n",
       "                               SARIMAX Results                                \n",
       "==============================================================================\n",
       "Dep. Variable:                  Sales   No. Observations:                   49\n",
       "Model:                 ARIMA(1, 1, 1)   Log Likelihood                -771.997\n",
       "Date:                Thu, 20 Apr 2023   AIC                           1549.993\n",
       "Time:                        15:05:47   BIC                           1555.607\n",
       "Sample:                    11-01-2015   HQIC                          1552.115\n",
       "                         - 11-01-2019                                         \n",
       "Covariance Type:                  opg                                         \n",
       "==============================================================================\n",
       "                 coef    std err          z      P>|z|      [0.025      0.975]\n",
       "------------------------------------------------------------------------------\n",
       "ar.L1          0.7345      0.165      4.458      0.000       0.412       1.057\n",
       "ma.L1         -0.9920      0.254     -3.908      0.000      -1.489      -0.495\n",
       "sigma2      5.724e+12   4.37e-14   1.31e+26      0.000    5.72e+12    5.72e+12\n",
       "===================================================================================\n",
       "Ljung-Box (L1) (Q):                   0.20   Jarque-Bera (JB):                 1.94\n",
       "Prob(Q):                              0.66   Prob(JB):                         0.38\n",
       "Heteroskedasticity (H):               1.18   Skew:                             0.47\n",
       "Prob(H) (two-sided):                  0.74   Kurtosis:                         2.69\n",
       "===================================================================================\n",
       "\n",
       "Warnings:\n",
       "[1] Covariance matrix calculated using the outer product of gradients (complex-step).\n",
       "[2] Covariance matrix is singular or near-singular, with condition number 2.5e+41. Standard errors may be unstable.\n",
       "\"\"\""
      ]
     },
     "execution_count": 40,
     "metadata": {},
     "output_type": "execute_result"
    }
   ],
   "source": [
    "model_fit.summary()"
   ]
  },
  {
   "cell_type": "code",
   "execution_count": 48,
   "id": "0af62fac",
   "metadata": {},
   "outputs": [
    {
     "data": {
      "text/plain": [
       "(29, 49)"
      ]
     },
     "execution_count": 48,
     "metadata": {},
     "output_type": "execute_result"
    }
   ],
   "source": [
    "(len(ts)-20),len(ts)"
   ]
  },
  {
   "cell_type": "code",
   "execution_count": 53,
   "id": "48588d0d",
   "metadata": {},
   "outputs": [],
   "source": [
    "predict = model_fit.predict(start=(len(ts)-21),end=len(ts))"
   ]
  },
  {
   "cell_type": "code",
   "execution_count": 54,
   "id": "8d6365c6",
   "metadata": {},
   "outputs": [
    {
     "data": {
      "text/plain": [
       "2018-03-01    7.147510e+06\n",
       "2018-04-01    6.116851e+06\n",
       "2018-05-01    6.305482e+06\n",
       "2018-06-01    5.680205e+06\n",
       "2018-07-01    4.614285e+06\n",
       "Freq: MS, Name: predicted_mean, dtype: float64"
      ]
     },
     "execution_count": 54,
     "metadata": {},
     "output_type": "execute_result"
    }
   ],
   "source": [
    "predict.head()"
   ]
  },
  {
   "cell_type": "markdown",
   "id": "8ca2d918",
   "metadata": {},
   "source": [
    "### Model Evaluation"
   ]
  },
  {
   "cell_type": "code",
   "execution_count": 55,
   "id": "5a62e422",
   "metadata": {},
   "outputs": [],
   "source": [
    "from sklearn.metrics import mean_squared_error"
   ]
  },
  {
   "cell_type": "code",
   "execution_count": 56,
   "id": "9ed85071",
   "metadata": {},
   "outputs": [
    {
     "ename": "ValueError",
     "evalue": "Found input variables with inconsistent numbers of samples: [49, 22]",
     "output_type": "error",
     "traceback": [
      "\u001b[1;31m---------------------------------------------------------------------------\u001b[0m",
      "\u001b[1;31mValueError\u001b[0m                                Traceback (most recent call last)",
      "Input \u001b[1;32mIn [56]\u001b[0m, in \u001b[0;36m<cell line: 1>\u001b[1;34m()\u001b[0m\n\u001b[1;32m----> 1\u001b[0m error \u001b[38;5;241m=\u001b[39m np\u001b[38;5;241m.\u001b[39msqrt(\u001b[43mmean_squared_error\u001b[49m\u001b[43m(\u001b[49m\u001b[43mts\u001b[49m\u001b[43m,\u001b[49m\u001b[43mpredict\u001b[49m\u001b[43m)\u001b[49m)\n\u001b[0;32m      2\u001b[0m error\n",
      "File \u001b[1;32m~\\anaconda3\\lib\\site-packages\\sklearn\\metrics\\_regression.py:438\u001b[0m, in \u001b[0;36mmean_squared_error\u001b[1;34m(y_true, y_pred, sample_weight, multioutput, squared)\u001b[0m\n\u001b[0;32m    378\u001b[0m \u001b[38;5;28;01mdef\u001b[39;00m \u001b[38;5;21mmean_squared_error\u001b[39m(\n\u001b[0;32m    379\u001b[0m     y_true, y_pred, \u001b[38;5;241m*\u001b[39m, sample_weight\u001b[38;5;241m=\u001b[39m\u001b[38;5;28;01mNone\u001b[39;00m, multioutput\u001b[38;5;241m=\u001b[39m\u001b[38;5;124m\"\u001b[39m\u001b[38;5;124muniform_average\u001b[39m\u001b[38;5;124m\"\u001b[39m, squared\u001b[38;5;241m=\u001b[39m\u001b[38;5;28;01mTrue\u001b[39;00m\n\u001b[0;32m    380\u001b[0m ):\n\u001b[0;32m    381\u001b[0m     \u001b[38;5;124;03m\"\"\"Mean squared error regression loss.\u001b[39;00m\n\u001b[0;32m    382\u001b[0m \n\u001b[0;32m    383\u001b[0m \u001b[38;5;124;03m    Read more in the :ref:`User Guide <mean_squared_error>`.\u001b[39;00m\n\u001b[1;32m   (...)\u001b[0m\n\u001b[0;32m    436\u001b[0m \u001b[38;5;124;03m    0.825...\u001b[39;00m\n\u001b[0;32m    437\u001b[0m \u001b[38;5;124;03m    \"\"\"\u001b[39;00m\n\u001b[1;32m--> 438\u001b[0m     y_type, y_true, y_pred, multioutput \u001b[38;5;241m=\u001b[39m \u001b[43m_check_reg_targets\u001b[49m\u001b[43m(\u001b[49m\n\u001b[0;32m    439\u001b[0m \u001b[43m        \u001b[49m\u001b[43my_true\u001b[49m\u001b[43m,\u001b[49m\u001b[43m \u001b[49m\u001b[43my_pred\u001b[49m\u001b[43m,\u001b[49m\u001b[43m \u001b[49m\u001b[43mmultioutput\u001b[49m\n\u001b[0;32m    440\u001b[0m \u001b[43m    \u001b[49m\u001b[43m)\u001b[49m\n\u001b[0;32m    441\u001b[0m     check_consistent_length(y_true, y_pred, sample_weight)\n\u001b[0;32m    442\u001b[0m     output_errors \u001b[38;5;241m=\u001b[39m np\u001b[38;5;241m.\u001b[39maverage((y_true \u001b[38;5;241m-\u001b[39m y_pred) \u001b[38;5;241m*\u001b[39m\u001b[38;5;241m*\u001b[39m \u001b[38;5;241m2\u001b[39m, axis\u001b[38;5;241m=\u001b[39m\u001b[38;5;241m0\u001b[39m, weights\u001b[38;5;241m=\u001b[39msample_weight)\n",
      "File \u001b[1;32m~\\anaconda3\\lib\\site-packages\\sklearn\\metrics\\_regression.py:94\u001b[0m, in \u001b[0;36m_check_reg_targets\u001b[1;34m(y_true, y_pred, multioutput, dtype)\u001b[0m\n\u001b[0;32m     60\u001b[0m \u001b[38;5;28;01mdef\u001b[39;00m \u001b[38;5;21m_check_reg_targets\u001b[39m(y_true, y_pred, multioutput, dtype\u001b[38;5;241m=\u001b[39m\u001b[38;5;124m\"\u001b[39m\u001b[38;5;124mnumeric\u001b[39m\u001b[38;5;124m\"\u001b[39m):\n\u001b[0;32m     61\u001b[0m     \u001b[38;5;124;03m\"\"\"Check that y_true and y_pred belong to the same regression task.\u001b[39;00m\n\u001b[0;32m     62\u001b[0m \n\u001b[0;32m     63\u001b[0m \u001b[38;5;124;03m    Parameters\u001b[39;00m\n\u001b[1;32m   (...)\u001b[0m\n\u001b[0;32m     92\u001b[0m \u001b[38;5;124;03m        the dtype argument passed to check_array.\u001b[39;00m\n\u001b[0;32m     93\u001b[0m \u001b[38;5;124;03m    \"\"\"\u001b[39;00m\n\u001b[1;32m---> 94\u001b[0m     \u001b[43mcheck_consistent_length\u001b[49m\u001b[43m(\u001b[49m\u001b[43my_true\u001b[49m\u001b[43m,\u001b[49m\u001b[43m \u001b[49m\u001b[43my_pred\u001b[49m\u001b[43m)\u001b[49m\n\u001b[0;32m     95\u001b[0m     y_true \u001b[38;5;241m=\u001b[39m check_array(y_true, ensure_2d\u001b[38;5;241m=\u001b[39m\u001b[38;5;28;01mFalse\u001b[39;00m, dtype\u001b[38;5;241m=\u001b[39mdtype)\n\u001b[0;32m     96\u001b[0m     y_pred \u001b[38;5;241m=\u001b[39m check_array(y_pred, ensure_2d\u001b[38;5;241m=\u001b[39m\u001b[38;5;28;01mFalse\u001b[39;00m, dtype\u001b[38;5;241m=\u001b[39mdtype)\n",
      "File \u001b[1;32m~\\anaconda3\\lib\\site-packages\\sklearn\\utils\\validation.py:332\u001b[0m, in \u001b[0;36mcheck_consistent_length\u001b[1;34m(*arrays)\u001b[0m\n\u001b[0;32m    330\u001b[0m uniques \u001b[38;5;241m=\u001b[39m np\u001b[38;5;241m.\u001b[39munique(lengths)\n\u001b[0;32m    331\u001b[0m \u001b[38;5;28;01mif\u001b[39;00m \u001b[38;5;28mlen\u001b[39m(uniques) \u001b[38;5;241m>\u001b[39m \u001b[38;5;241m1\u001b[39m:\n\u001b[1;32m--> 332\u001b[0m     \u001b[38;5;28;01mraise\u001b[39;00m \u001b[38;5;167;01mValueError\u001b[39;00m(\n\u001b[0;32m    333\u001b[0m         \u001b[38;5;124m\"\u001b[39m\u001b[38;5;124mFound input variables with inconsistent numbers of samples: \u001b[39m\u001b[38;5;132;01m%r\u001b[39;00m\u001b[38;5;124m\"\u001b[39m\n\u001b[0;32m    334\u001b[0m         \u001b[38;5;241m%\u001b[39m [\u001b[38;5;28mint\u001b[39m(l) \u001b[38;5;28;01mfor\u001b[39;00m l \u001b[38;5;129;01min\u001b[39;00m lengths]\n\u001b[0;32m    335\u001b[0m     )\n",
      "\u001b[1;31mValueError\u001b[0m: Found input variables with inconsistent numbers of samples: [49, 22]"
     ]
    }
   ],
   "source": [
    "error = np.sqrt(mean_squared_error(ts,predict))\n",
    "error"
   ]
  },
  {
   "cell_type": "code",
   "execution_count": 57,
   "id": "4454869e",
   "metadata": {},
   "outputs": [
    {
     "data": {
      "text/plain": [
       "(Sales    7.734809e+06\n",
       " dtype: float64,\n",
       " Sales    2.935385e+06\n",
       " dtype: float64)"
      ]
     },
     "execution_count": 57,
     "metadata": {},
     "output_type": "execute_result"
    }
   ],
   "source": [
    "ts.mean(), np.sqrt(ts.var())"
   ]
  },
  {
   "cell_type": "code",
   "execution_count": null,
   "id": "6569bbf4",
   "metadata": {},
   "outputs": [],
   "source": []
  },
  {
   "cell_type": "code",
   "execution_count": null,
   "id": "1e1ed6d6",
   "metadata": {},
   "outputs": [],
   "source": []
  }
 ],
 "metadata": {
  "kernelspec": {
   "display_name": "Python 3 (ipykernel)",
   "language": "python",
   "name": "python3"
  },
  "language_info": {
   "codemirror_mode": {
    "name": "ipython",
    "version": 3
   },
   "file_extension": ".py",
   "mimetype": "text/x-python",
   "name": "python",
   "nbconvert_exporter": "python",
   "pygments_lexer": "ipython3",
   "version": "3.9.12"
  }
 },
 "nbformat": 4,
 "nbformat_minor": 5
}
