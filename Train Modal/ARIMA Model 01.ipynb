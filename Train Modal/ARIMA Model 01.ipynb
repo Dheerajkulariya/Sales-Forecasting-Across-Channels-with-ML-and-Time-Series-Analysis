{
 "cells": [
  {
   "cell_type": "code",
   "execution_count": 2,
   "id": "23787e95",
   "metadata": {},
   "outputs": [],
   "source": [
    "import pandas as pd\n",
    "import numpy as np"
   ]
  },
  {
   "cell_type": "code",
   "execution_count": 7,
   "id": "d03022af",
   "metadata": {},
   "outputs": [],
   "source": [
    "df = pd.read_csv(\"Assignment_Dataset_Brandintelle_Final_Data.csv\",parse_dates=['DATE'], index_col=['DATE'])"
   ]
  },
  {
   "cell_type": "code",
   "execution_count": 8,
   "id": "fd9d5a6e",
   "metadata": {},
   "outputs": [
    {
     "name": "stdout",
     "output_type": "stream",
     "text": [
      "Shape of data (208, 11)\n"
     ]
    },
    {
     "data": {
      "text/html": [
       "<div>\n",
       "<style scoped>\n",
       "    .dataframe tbody tr th:only-of-type {\n",
       "        vertical-align: middle;\n",
       "    }\n",
       "\n",
       "    .dataframe tbody tr th {\n",
       "        vertical-align: top;\n",
       "    }\n",
       "\n",
       "    .dataframe thead th {\n",
       "        text-align: right;\n",
       "    }\n",
       "</style>\n",
       "<table border=\"1\" class=\"dataframe\">\n",
       "  <thead>\n",
       "    <tr style=\"text-align: right;\">\n",
       "      <th></th>\n",
       "      <th>Sr No</th>\n",
       "      <th>Sales</th>\n",
       "      <th>TV_Spends</th>\n",
       "      <th>OOH_Spends</th>\n",
       "      <th>Print_Spends</th>\n",
       "      <th>FB_Spends</th>\n",
       "      <th>FB_Impressions</th>\n",
       "      <th>Search_Spends</th>\n",
       "      <th>Paid_Search_Clicks</th>\n",
       "      <th>competitor_sales_B</th>\n",
       "      <th>events</th>\n",
       "    </tr>\n",
       "    <tr>\n",
       "      <th>DATE</th>\n",
       "      <th></th>\n",
       "      <th></th>\n",
       "      <th></th>\n",
       "      <th></th>\n",
       "      <th></th>\n",
       "      <th></th>\n",
       "      <th></th>\n",
       "      <th></th>\n",
       "      <th></th>\n",
       "      <th></th>\n",
       "      <th></th>\n",
       "    </tr>\n",
       "  </thead>\n",
       "  <tbody>\n",
       "    <tr>\n",
       "      <th>2015-11-23</th>\n",
       "      <td>1</td>\n",
       "      <td>2754371</td>\n",
       "      <td>167687</td>\n",
       "      <td>0</td>\n",
       "      <td>95463</td>\n",
       "      <td>228213</td>\n",
       "      <td>72903852</td>\n",
       "      <td>0</td>\n",
       "      <td>0</td>\n",
       "      <td>8125009</td>\n",
       "      <td>na</td>\n",
       "    </tr>\n",
       "    <tr>\n",
       "      <th>2015-11-30</th>\n",
       "      <td>2</td>\n",
       "      <td>2584276</td>\n",
       "      <td>214600</td>\n",
       "      <td>0</td>\n",
       "      <td>0</td>\n",
       "      <td>34258</td>\n",
       "      <td>16581099</td>\n",
       "      <td>31000</td>\n",
       "      <td>29511</td>\n",
       "      <td>7901549</td>\n",
       "      <td>na</td>\n",
       "    </tr>\n",
       "    <tr>\n",
       "      <th>2015-12-07</th>\n",
       "      <td>3</td>\n",
       "      <td>2547386</td>\n",
       "      <td>0</td>\n",
       "      <td>248022</td>\n",
       "      <td>3404</td>\n",
       "      <td>127691</td>\n",
       "      <td>49954773</td>\n",
       "      <td>28400</td>\n",
       "      <td>36132</td>\n",
       "      <td>8300197</td>\n",
       "      <td>event0</td>\n",
       "    </tr>\n",
       "    <tr>\n",
       "      <th>2015-12-14</th>\n",
       "      <td>4</td>\n",
       "      <td>2875220</td>\n",
       "      <td>625877</td>\n",
       "      <td>0</td>\n",
       "      <td>132600</td>\n",
       "      <td>84014</td>\n",
       "      <td>31649297</td>\n",
       "      <td>31900</td>\n",
       "      <td>36804</td>\n",
       "      <td>8122883</td>\n",
       "      <td>na</td>\n",
       "    </tr>\n",
       "    <tr>\n",
       "      <th>2015-12-21</th>\n",
       "      <td>5</td>\n",
       "      <td>2215953</td>\n",
       "      <td>0</td>\n",
       "      <td>520005</td>\n",
       "      <td>0</td>\n",
       "      <td>20687</td>\n",
       "      <td>8802269</td>\n",
       "      <td>27100</td>\n",
       "      <td>28401</td>\n",
       "      <td>7105985</td>\n",
       "      <td>na</td>\n",
       "    </tr>\n",
       "  </tbody>\n",
       "</table>\n",
       "</div>"
      ],
      "text/plain": [
       "            Sr No    Sales  TV_Spends  OOH_Spends  Print_Spends  FB_Spends  \\\n",
       "DATE                                                                         \n",
       "2015-11-23      1  2754371     167687           0         95463     228213   \n",
       "2015-11-30      2  2584276     214600           0             0      34258   \n",
       "2015-12-07      3  2547386          0      248022          3404     127691   \n",
       "2015-12-14      4  2875220     625877           0        132600      84014   \n",
       "2015-12-21      5  2215953          0      520005             0      20687   \n",
       "\n",
       "            FB_Impressions  Search_Spends  Paid_Search_Clicks  \\\n",
       "DATE                                                            \n",
       "2015-11-23        72903852              0                   0   \n",
       "2015-11-30        16581099          31000               29511   \n",
       "2015-12-07        49954773          28400               36132   \n",
       "2015-12-14        31649297          31900               36804   \n",
       "2015-12-21         8802269          27100               28401   \n",
       "\n",
       "            competitor_sales_B  events  \n",
       "DATE                                    \n",
       "2015-11-23             8125009      na  \n",
       "2015-11-30             7901549      na  \n",
       "2015-12-07             8300197  event0  \n",
       "2015-12-14             8122883      na  \n",
       "2015-12-21             7105985      na  "
      ]
     },
     "execution_count": 8,
     "metadata": {},
     "output_type": "execute_result"
    }
   ],
   "source": [
    "print('Shape of data', df.shape)\n",
    "df.head()"
   ]
  },
  {
   "cell_type": "code",
   "execution_count": 9,
   "id": "ccbb01e8",
   "metadata": {},
   "outputs": [
    {
     "data": {
      "text/plain": [
       "<AxesSubplot:xlabel='DATE'>"
      ]
     },
     "execution_count": 9,
     "metadata": {},
     "output_type": "execute_result"
    },
    {
     "data": {
      "image/png": "[encoded data removed]",
      "text/plain": [
       "<Figure size 864x360 with 1 Axes>"
      ]
     },
     "metadata": {
      "needs_background": "light"
     },
     "output_type": "display_data"
    }
   ],
   "source": [
    "df['Sales'].plot(figsize=(12,5))"
   ]
  },
  {
   "cell_type": "markdown",
   "id": "454812ac",
   "metadata": {},
   "source": [
    "### Check For Stationarity "
   ]
  },
  {
   "cell_type": "code",
   "execution_count": 11,
   "id": "7d1a0c85",
   "metadata": {},
   "outputs": [
    {
     "name": "stdout",
     "output_type": "stream",
     "text": [
      "1. ADF :  -5.736818696706658\n",
      "2. P-Value :  6.409857208353513e-07\n",
      "3. Num of Lags :  14\n",
      "4. Num of Observations Used For ADF Regrestion and Critical Values Calculation :  193\n",
      "5. Critical Values : \n",
      "\t 1% :  -3.4646940755442612\n",
      "\t 5% :  -2.8766348847254934\n",
      "\t 10% :  -2.5748163958763994\n"
     ]
    }
   ],
   "source": [
    "from statsmodels.tsa.stattools import adfuller\n",
    "\n",
    "df_test = adfuller(df['Sales'], autolag = 'AIC')\n",
    "\n",
    "print(\"1. ADF : \",df_test[0])\n",
    "print(\"2. P-Value : \",df_test[1])\n",
    "print(\"3. Num of Lags : \",df_test[2])\n",
    "print(\"4. Num of Observations Used For ADF Regrestion and Critical Values Calculation : \",df_test[3])\n",
    "print(\"5. Critical Values : \")\n",
    "for key, val in df_test[4].items():\n",
    "    print(\"\\t\",key, \": \", val)\n",
    "\n",
    "# ADF = Augmented Dickey Fuller Test"
   ]
  },
  {
   "cell_type": "markdown",
   "id": "3250ebb1",
   "metadata": {},
   "source": [
    "### Figure Out Order for ARIMA Model"
   ]
  },
  {
   "cell_type": "code",
   "execution_count": 16,
   "id": "f6d25e3b",
   "metadata": {},
   "outputs": [],
   "source": [
    "from pmdarima import auto_arima\n",
    "# Ignore harmless warning\n",
    "import warnings\n",
    "warnings.filterwarnings(\"ignore\")"
   ]
  },
  {
   "cell_type": "code",
   "execution_count": 18,
   "id": "ecfb310d",
   "metadata": {},
   "outputs": [
    {
     "name": "stdout",
     "output_type": "stream",
     "text": [
      "Performing stepwise search to minimize aic\n",
      " ARIMA(2,0,2)(0,0,0)[0] intercept   : AIC=5964.595, Time=0.30 sec\n",
      " ARIMA(0,0,0)(0,0,0)[0] intercept   : AIC=6201.686, Time=0.03 sec\n",
      " ARIMA(1,0,0)(0,0,0)[0] intercept   : AIC=5990.414, Time=0.04 sec\n",
      " ARIMA(0,0,1)(0,0,0)[0] intercept   : AIC=6122.131, Time=0.06 sec\n",
      " ARIMA(0,0,0)(0,0,0)[0]             : AIC=6618.886, Time=0.02 sec\n",
      " ARIMA(1,0,2)(0,0,0)[0] intercept   : AIC=5964.291, Time=0.08 sec\n",
      " ARIMA(0,0,2)(0,0,0)[0] intercept   : AIC=6088.750, Time=0.07 sec\n",
      " ARIMA(1,0,1)(0,0,0)[0] intercept   : AIC=5964.631, Time=0.06 sec\n",
      " ARIMA(1,0,3)(0,0,0)[0] intercept   : AIC=5965.787, Time=0.11 sec\n",
      " ARIMA(0,0,3)(0,0,0)[0] intercept   : AIC=6082.973, Time=0.08 sec\n",
      " ARIMA(2,0,1)(0,0,0)[0] intercept   : AIC=5963.643, Time=0.10 sec\n",
      " ARIMA(2,0,0)(0,0,0)[0] intercept   : AIC=5963.911, Time=0.08 sec\n",
      " ARIMA(3,0,1)(0,0,0)[0] intercept   : AIC=5965.222, Time=0.13 sec\n",
      " ARIMA(3,0,0)(0,0,0)[0] intercept   : AIC=5963.563, Time=0.09 sec\n",
      " ARIMA(4,0,0)(0,0,0)[0] intercept   : AIC=5963.664, Time=0.12 sec\n",
      " ARIMA(4,0,1)(0,0,0)[0] intercept   : AIC=5965.662, Time=0.17 sec\n",
      " ARIMA(3,0,0)(0,0,0)[0]             : AIC=inf, Time=0.07 sec\n",
      "\n",
      "Best model:  ARIMA(3,0,0)(0,0,0)[0] intercept\n",
      "Total fit time: 1.744 seconds\n"
     ]
    },
    {
     "data": {
      "text/html": [
       "<table class=\"simpletable\">\n",
       "<caption>SARIMAX Results</caption>\n",
       "<tr>\n",
       "  <th>Dep. Variable:</th>           <td>y</td>        <th>  No. Observations:  </th>    <td>208</td>   \n",
       "</tr>\n",
       "<tr>\n",
       "  <th>Model:</th>           <td>SARIMAX(3, 0, 0)</td> <th>  Log Likelihood     </th> <td>-2976.782</td>\n",
       "</tr>\n",
       "<tr>\n",
       "  <th>Date:</th>            <td>Tue, 25 Apr 2023</td> <th>  AIC                </th> <td>5963.563</td> \n",
       "</tr>\n",
       "<tr>\n",
       "  <th>Time:</th>                <td>13:03:04</td>     <th>  BIC                </th> <td>5980.251</td> \n",
       "</tr>\n",
       "<tr>\n",
       "  <th>Sample:</th>             <td>11-23-2015</td>    <th>  HQIC               </th> <td>5970.311</td> \n",
       "</tr>\n",
       "<tr>\n",
       "  <th></th>                   <td>- 11-11-2019</td>   <th>                     </th>     <td> </td>    \n",
       "</tr>\n",
       "<tr>\n",
       "  <th>Covariance Type:</th>        <td>opg</td>       <th>                     </th>     <td> </td>    \n",
       "</tr>\n",
       "</table>\n",
       "<table class=\"simpletable\">\n",
       "<tr>\n",
       "      <td></td>         <th>coef</th>     <th>std err</th>      <th>z</th>      <th>P>|z|</th>  <th>[0.025</th>    <th>0.975]</th>  \n",
       "</tr>\n",
       "<tr>\n",
       "  <th>intercept</th> <td> 2.058e+05</td> <td> 8.36e+04</td> <td>    2.460</td> <td> 0.014</td> <td> 4.18e+04</td> <td>  3.7e+05</td>\n",
       "</tr>\n",
       "<tr>\n",
       "  <th>ar.L1</th>     <td>    0.4804</td> <td>    0.058</td> <td>    8.219</td> <td> 0.000</td> <td>    0.366</td> <td>    0.595</td>\n",
       "</tr>\n",
       "<tr>\n",
       "  <th>ar.L2</th>     <td>    0.3054</td> <td>    0.052</td> <td>    5.835</td> <td> 0.000</td> <td>    0.203</td> <td>    0.408</td>\n",
       "</tr>\n",
       "<tr>\n",
       "  <th>ar.L3</th>     <td>    0.1069</td> <td>    0.061</td> <td>    1.750</td> <td> 0.080</td> <td>   -0.013</td> <td>    0.227</td>\n",
       "</tr>\n",
       "<tr>\n",
       "  <th>sigma2</th>    <td>  1.58e+11</td> <td>    0.220</td> <td> 7.19e+11</td> <td> 0.000</td> <td> 1.58e+11</td> <td> 1.58e+11</td>\n",
       "</tr>\n",
       "</table>\n",
       "<table class=\"simpletable\">\n",
       "<tr>\n",
       "  <th>Ljung-Box (L1) (Q):</th>     <td>0.04</td> <th>  Jarque-Bera (JB):  </th> <td>79.72</td>\n",
       "</tr>\n",
       "<tr>\n",
       "  <th>Prob(Q):</th>                <td>0.84</td> <th>  Prob(JB):          </th> <td>0.00</td> \n",
       "</tr>\n",
       "<tr>\n",
       "  <th>Heteroskedasticity (H):</th> <td>0.85</td> <th>  Skew:              </th> <td>0.87</td> \n",
       "</tr>\n",
       "<tr>\n",
       "  <th>Prob(H) (two-sided):</th>    <td>0.50</td> <th>  Kurtosis:          </th> <td>5.48</td> \n",
       "</tr>\n",
       "</table><br/><br/>Warnings:<br/>[1] Covariance matrix calculated using the outer product of gradients (complex-step).<br/>[2] Covariance matrix is singular or near-singular, with condition number 1.01e+27. Standard errors may be unstable."
      ],
      "text/plain": [
       "<class 'statsmodels.iolib.summary.Summary'>\n",
       "\"\"\"\n",
       "                               SARIMAX Results                                \n",
       "==============================================================================\n",
       "Dep. Variable:                      y   No. Observations:                  208\n",
       "Model:               SARIMAX(3, 0, 0)   Log Likelihood               -2976.782\n",
       "Date:                Tue, 25 Apr 2023   AIC                           5963.563\n",
       "Time:                        13:03:04   BIC                           5980.251\n",
       "Sample:                    11-23-2015   HQIC                          5970.311\n",
       "                         - 11-11-2019                                         \n",
       "Covariance Type:                  opg                                         \n",
       "==============================================================================\n",
       "                 coef    std err          z      P>|z|      [0.025      0.975]\n",
       "------------------------------------------------------------------------------\n",
       "intercept   2.058e+05   8.36e+04      2.460      0.014    4.18e+04     3.7e+05\n",
       "ar.L1          0.4804      0.058      8.219      0.000       0.366       0.595\n",
       "ar.L2          0.3054      0.052      5.835      0.000       0.203       0.408\n",
       "ar.L3          0.1069      0.061      1.750      0.080      -0.013       0.227\n",
       "sigma2       1.58e+11      0.220   7.19e+11      0.000    1.58e+11    1.58e+11\n",
       "===================================================================================\n",
       "Ljung-Box (L1) (Q):                   0.04   Jarque-Bera (JB):                79.72\n",
       "Prob(Q):                              0.84   Prob(JB):                         0.00\n",
       "Heteroskedasticity (H):               0.85   Skew:                             0.87\n",
       "Prob(H) (two-sided):                  0.50   Kurtosis:                         5.48\n",
       "===================================================================================\n",
       "\n",
       "Warnings:\n",
       "[1] Covariance matrix calculated using the outer product of gradients (complex-step).\n",
       "[2] Covariance matrix is singular or near-singular, with condition number 1.01e+27. Standard errors may be unstable.\n",
       "\"\"\""
      ]
     },
     "execution_count": 18,
     "metadata": {},
     "output_type": "execute_result"
    }
   ],
   "source": [
    "stepwise_fit = auto_arima(df['Sales'], trace = True,\n",
    "                        suppress_warnings = True)\n",
    "stepwise_fit.summary()"
   ]
  },
  {
   "cell_type": "code",
   "execution_count": 41,
   "id": "08f460a5",
   "metadata": {},
   "outputs": [],
   "source": [
    "from statsmodels.tsa.arima.model import ARIMA"
   ]
  },
  {
   "cell_type": "code",
   "execution_count": 42,
   "id": "8755559a",
   "metadata": {},
   "outputs": [
    {
     "name": "stdout",
     "output_type": "stream",
     "text": [
      "(208, 11)\n",
      "(196, 11) (12, 11)\n"
     ]
    }
   ],
   "source": [
    "print(df.shape)\n",
    "train = df.iloc[:-12]\n",
    "test = df.iloc[-12:]\n",
    "print(train.shape,test.shape)"
   ]
  },
  {
   "cell_type": "markdown",
   "id": "51795880",
   "metadata": {},
   "source": [
    "### Train the Model"
   ]
  },
  {
   "cell_type": "code",
   "execution_count": 43,
   "id": "d09ef654",
   "metadata": {},
   "outputs": [
    {
     "data": {
      "text/html": [
       "<table class=\"simpletable\">\n",
       "<caption>SARIMAX Results</caption>\n",
       "<tr>\n",
       "  <th>Dep. Variable:</th>         <td>Sales</td>      <th>  No. Observations:  </th>    <td>196</td>   \n",
       "</tr>\n",
       "<tr>\n",
       "  <th>Model:</th>            <td>ARIMA(3, 0, 0)</td>  <th>  Log Likelihood     </th> <td>-2807.644</td>\n",
       "</tr>\n",
       "<tr>\n",
       "  <th>Date:</th>            <td>Tue, 25 Apr 2023</td> <th>  AIC                </th> <td>5625.288</td> \n",
       "</tr>\n",
       "<tr>\n",
       "  <th>Time:</th>                <td>13:45:35</td>     <th>  BIC                </th> <td>5641.678</td> \n",
       "</tr>\n",
       "<tr>\n",
       "  <th>Sample:</th>             <td>11-23-2015</td>    <th>  HQIC               </th> <td>5631.923</td> \n",
       "</tr>\n",
       "<tr>\n",
       "  <th></th>                   <td>- 08-19-2019</td>   <th>                     </th>     <td> </td>    \n",
       "</tr>\n",
       "<tr>\n",
       "  <th>Covariance Type:</th>        <td>opg</td>       <th>                     </th>     <td> </td>    \n",
       "</tr>\n",
       "</table>\n",
       "<table class=\"simpletable\">\n",
       "<tr>\n",
       "     <td></td>       <th>coef</th>     <th>std err</th>      <th>z</th>      <th>P>|z|</th>  <th>[0.025</th>    <th>0.975]</th>  \n",
       "</tr>\n",
       "<tr>\n",
       "  <th>const</th>  <td> 1.788e+06</td> <td> 2.32e+05</td> <td>    7.703</td> <td> 0.000</td> <td> 1.33e+06</td> <td> 2.24e+06</td>\n",
       "</tr>\n",
       "<tr>\n",
       "  <th>ar.L1</th>  <td>    0.4648</td> <td>    0.062</td> <td>    7.556</td> <td> 0.000</td> <td>    0.344</td> <td>    0.585</td>\n",
       "</tr>\n",
       "<tr>\n",
       "  <th>ar.L2</th>  <td>    0.3144</td> <td>    0.054</td> <td>    5.789</td> <td> 0.000</td> <td>    0.208</td> <td>    0.421</td>\n",
       "</tr>\n",
       "<tr>\n",
       "  <th>ar.L3</th>  <td>    0.1064</td> <td>    0.064</td> <td>    1.666</td> <td> 0.096</td> <td>   -0.019</td> <td>    0.232</td>\n",
       "</tr>\n",
       "<tr>\n",
       "  <th>sigma2</th> <td>  1.62e+11</td> <td>    2.296</td> <td> 7.05e+10</td> <td> 0.000</td> <td> 1.62e+11</td> <td> 1.62e+11</td>\n",
       "</tr>\n",
       "</table>\n",
       "<table class=\"simpletable\">\n",
       "<tr>\n",
       "  <th>Ljung-Box (L1) (Q):</th>     <td>0.05</td> <th>  Jarque-Bera (JB):  </th> <td>83.60</td>\n",
       "</tr>\n",
       "<tr>\n",
       "  <th>Prob(Q):</th>                <td>0.82</td> <th>  Prob(JB):          </th> <td>0.00</td> \n",
       "</tr>\n",
       "<tr>\n",
       "  <th>Heteroskedasticity (H):</th> <td>0.90</td> <th>  Skew:              </th> <td>0.96</td> \n",
       "</tr>\n",
       "<tr>\n",
       "  <th>Prob(H) (two-sided):</th>    <td>0.67</td> <th>  Kurtosis:          </th> <td>5.56</td> \n",
       "</tr>\n",
       "</table><br/><br/>Warnings:<br/>[1] Covariance matrix calculated using the outer product of gradients (complex-step).<br/>[2] Covariance matrix is singular or near-singular, with condition number 1.1e+36. Standard errors may be unstable."
      ],
      "text/plain": [
       "<class 'statsmodels.iolib.summary.Summary'>\n",
       "\"\"\"\n",
       "                               SARIMAX Results                                \n",
       "==============================================================================\n",
       "Dep. Variable:                  Sales   No. Observations:                  196\n",
       "Model:                 ARIMA(3, 0, 0)   Log Likelihood               -2807.644\n",
       "Date:                Tue, 25 Apr 2023   AIC                           5625.288\n",
       "Time:                        13:45:35   BIC                           5641.678\n",
       "Sample:                    11-23-2015   HQIC                          5631.923\n",
       "                         - 08-19-2019                                         \n",
       "Covariance Type:                  opg                                         \n",
       "==============================================================================\n",
       "                 coef    std err          z      P>|z|      [0.025      0.975]\n",
       "------------------------------------------------------------------------------\n",
       "const       1.788e+06   2.32e+05      7.703      0.000    1.33e+06    2.24e+06\n",
       "ar.L1          0.4648      0.062      7.556      0.000       0.344       0.585\n",
       "ar.L2          0.3144      0.054      5.789      0.000       0.208       0.421\n",
       "ar.L3          0.1064      0.064      1.666      0.096      -0.019       0.232\n",
       "sigma2       1.62e+11      2.296   7.05e+10      0.000    1.62e+11    1.62e+11\n",
       "===================================================================================\n",
       "Ljung-Box (L1) (Q):                   0.05   Jarque-Bera (JB):                83.60\n",
       "Prob(Q):                              0.82   Prob(JB):                         0.00\n",
       "Heteroskedasticity (H):               0.90   Skew:                             0.96\n",
       "Prob(H) (two-sided):                  0.67   Kurtosis:                         5.56\n",
       "===================================================================================\n",
       "\n",
       "Warnings:\n",
       "[1] Covariance matrix calculated using the outer product of gradients (complex-step).\n",
       "[2] Covariance matrix is singular or near-singular, with condition number 1.1e+36. Standard errors may be unstable.\n",
       "\"\"\""
      ]
     },
     "execution_count": 43,
     "metadata": {},
     "output_type": "execute_result"
    }
   ],
   "source": [
    "model = ARIMA(train['Sales'],order = (3,0,0))\n",
    "result = model.fit()\n",
    "result.summary()"
   ]
  },
  {
   "cell_type": "code",
   "execution_count": 47,
   "id": "e083c6d0",
   "metadata": {},
   "outputs": [
    {
     "name": "stdout",
     "output_type": "stream",
     "text": [
      "2019-08-26    1.504050e+06\n",
      "2019-09-02    1.496540e+06\n",
      "2019-09-09    1.521643e+06\n",
      "2019-09-16    1.542293e+06\n",
      "2019-09-23    1.558984e+06\n",
      "2019-09-30    1.575905e+06\n",
      "2019-10-07    1.591215e+06\n",
      "2019-10-14    1.605427e+06\n",
      "2019-10-21    1.618647e+06\n",
      "2019-10-28    1.630889e+06\n",
      "2019-11-04    1.642247e+06\n",
      "2019-11-11    1.652782e+06\n",
      "Freq: W-MON, Name: predicted_mean, dtype: float64\n"
     ]
    }
   ],
   "source": [
    "start = len(train)\n",
    "end = len(train)+len(test)-1\n",
    "pred = result.predict(start=start,end=end,typ='levels')\n",
    "print(pred)"
   ]
  },
  {
   "cell_type": "code",
   "execution_count": 48,
   "id": "e32c7829",
   "metadata": {},
   "outputs": [
    {
     "data": {
      "text/plain": [
       "<AxesSubplot:xlabel='DATE'>"
      ]
     },
     "execution_count": 48,
     "metadata": {},
     "output_type": "execute_result"
    },
    {
     "data": {
      "image/png": "[encoded data removed]",
      "text/plain": [
       "<Figure size 432x288 with 1 Axes>"
      ]
     },
     "metadata": {
      "needs_background": "light"
     },
     "output_type": "display_data"
    }
   ],
   "source": [
    "pred.plot(legend=True)\n",
    "test['Sales'].plot(legend=True)"
   ]
  },
  {
   "cell_type": "code",
   "execution_count": 50,
   "id": "4c1f2b17",
   "metadata": {},
   "outputs": [
    {
     "data": {
      "text/plain": [
       "2387950.25"
      ]
     },
     "execution_count": 50,
     "metadata": {},
     "output_type": "execute_result"
    }
   ],
   "source": [
    "test['Sales'].mean()"
   ]
  },
  {
   "cell_type": "code",
   "execution_count": 52,
   "id": "1c788caf",
   "metadata": {},
   "outputs": [
    {
     "name": "stdout",
     "output_type": "stream",
     "text": [
      "836259.37\n"
     ]
    }
   ],
   "source": [
    "from sklearn.metrics import mean_squared_error\n",
    "from math import sqrt\n",
    "rmse = round(sqrt(mean_squared_error(pred,test['Sales'])),2)\n",
    "print(rmse)"
   ]
  },
  {
   "cell_type": "code",
   "execution_count": 53,
   "id": "37fa402c",
   "metadata": {},
   "outputs": [
    {
     "data": {
      "text/html": [
       "<div>\n",
       "<style scoped>\n",
       "    .dataframe tbody tr th:only-of-type {\n",
       "        vertical-align: middle;\n",
       "    }\n",
       "\n",
       "    .dataframe tbody tr th {\n",
       "        vertical-align: top;\n",
       "    }\n",
       "\n",
       "    .dataframe thead th {\n",
       "        text-align: right;\n",
       "    }\n",
       "</style>\n",
       "<table border=\"1\" class=\"dataframe\">\n",
       "  <thead>\n",
       "    <tr style=\"text-align: right;\">\n",
       "      <th></th>\n",
       "      <th>Sr No</th>\n",
       "      <th>Sales</th>\n",
       "      <th>TV_Spends</th>\n",
       "      <th>OOH_Spends</th>\n",
       "      <th>Print_Spends</th>\n",
       "      <th>FB_Spends</th>\n",
       "      <th>FB_Impressions</th>\n",
       "      <th>Search_Spends</th>\n",
       "      <th>Paid_Search_Clicks</th>\n",
       "      <th>competitor_sales_B</th>\n",
       "      <th>events</th>\n",
       "    </tr>\n",
       "    <tr>\n",
       "      <th>DATE</th>\n",
       "      <th></th>\n",
       "      <th></th>\n",
       "      <th></th>\n",
       "      <th></th>\n",
       "      <th></th>\n",
       "      <th></th>\n",
       "      <th></th>\n",
       "      <th></th>\n",
       "      <th></th>\n",
       "      <th></th>\n",
       "      <th></th>\n",
       "    </tr>\n",
       "  </thead>\n",
       "  <tbody>\n",
       "    <tr>\n",
       "      <th>2019-10-14</th>\n",
       "      <td>204</td>\n",
       "      <td>2456240</td>\n",
       "      <td>0</td>\n",
       "      <td>60433</td>\n",
       "      <td>153723</td>\n",
       "      <td>0</td>\n",
       "      <td>0</td>\n",
       "      <td>112100</td>\n",
       "      <td>152840</td>\n",
       "      <td>7612762</td>\n",
       "      <td>na</td>\n",
       "    </tr>\n",
       "    <tr>\n",
       "      <th>2019-10-21</th>\n",
       "      <td>205</td>\n",
       "      <td>2182825</td>\n",
       "      <td>154917</td>\n",
       "      <td>0</td>\n",
       "      <td>0</td>\n",
       "      <td>133624</td>\n",
       "      <td>56881962</td>\n",
       "      <td>103700</td>\n",
       "      <td>103680</td>\n",
       "      <td>6701667</td>\n",
       "      <td>na</td>\n",
       "    </tr>\n",
       "    <tr>\n",
       "      <th>2019-10-28</th>\n",
       "      <td>206</td>\n",
       "      <td>2377706</td>\n",
       "      <td>21982</td>\n",
       "      <td>14094</td>\n",
       "      <td>17476</td>\n",
       "      <td>0</td>\n",
       "      <td>0</td>\n",
       "      <td>114700</td>\n",
       "      <td>138387</td>\n",
       "      <td>7688920</td>\n",
       "      <td>na</td>\n",
       "    </tr>\n",
       "    <tr>\n",
       "      <th>2019-11-04</th>\n",
       "      <td>207</td>\n",
       "      <td>2732825</td>\n",
       "      <td>22453</td>\n",
       "      <td>0</td>\n",
       "      <td>24051</td>\n",
       "      <td>0</td>\n",
       "      <td>0</td>\n",
       "      <td>134100</td>\n",
       "      <td>151707</td>\n",
       "      <td>8815710</td>\n",
       "      <td>na</td>\n",
       "    </tr>\n",
       "    <tr>\n",
       "      <th>2019-11-11</th>\n",
       "      <td>208</td>\n",
       "      <td>2767788</td>\n",
       "      <td>0</td>\n",
       "      <td>0</td>\n",
       "      <td>0</td>\n",
       "      <td>366190</td>\n",
       "      <td>127981119</td>\n",
       "      <td>0</td>\n",
       "      <td>0</td>\n",
       "      <td>9067759</td>\n",
       "      <td>na</td>\n",
       "    </tr>\n",
       "  </tbody>\n",
       "</table>\n",
       "</div>"
      ],
      "text/plain": [
       "            Sr No    Sales  TV_Spends  OOH_Spends  Print_Spends  FB_Spends  \\\n",
       "DATE                                                                         \n",
       "2019-10-14    204  2456240          0       60433        153723          0   \n",
       "2019-10-21    205  2182825     154917           0             0     133624   \n",
       "2019-10-28    206  2377706      21982       14094         17476          0   \n",
       "2019-11-04    207  2732825      22453           0         24051          0   \n",
       "2019-11-11    208  2767788          0           0             0     366190   \n",
       "\n",
       "            FB_Impressions  Search_Spends  Paid_Search_Clicks  \\\n",
       "DATE                                                            \n",
       "2019-10-14               0         112100              152840   \n",
       "2019-10-21        56881962         103700              103680   \n",
       "2019-10-28               0         114700              138387   \n",
       "2019-11-04               0         134100              151707   \n",
       "2019-11-11       127981119              0                   0   \n",
       "\n",
       "            competitor_sales_B events  \n",
       "DATE                                   \n",
       "2019-10-14             7612762     na  \n",
       "2019-10-21             6701667     na  \n",
       "2019-10-28             7688920     na  \n",
       "2019-11-04             8815710     na  \n",
       "2019-11-11             9067759     na  "
      ]
     },
     "execution_count": 53,
     "metadata": {},
     "output_type": "execute_result"
    }
   ],
   "source": [
    "model2 = ARIMA(df['Sales'], order=(3,0,0))\n",
    "model2 = model2.fit()\n",
    "df.tail()"
   ]
  },
  {
   "cell_type": "markdown",
   "id": "07d327b2",
   "metadata": {},
   "source": [
    "### For Future Dates"
   ]
  },
  {
   "cell_type": "code",
   "execution_count": 54,
   "id": "bf6eb460",
   "metadata": {},
   "outputs": [
    {
     "ename": "ValueError",
     "evalue": "could not convert string to Timestamp",
     "output_type": "error",
     "traceback": [
      "\u001b[1;31m---------------------------------------------------------------------------\u001b[0m",
      "\u001b[1;31mValueError\u001b[0m                                Traceback (most recent call last)",
      "File \u001b[1;32m~\\anaconda3\\lib\\site-packages\\dateutil\\parser\\_parser.py:649\u001b[0m, in \u001b[0;36mparser.parse\u001b[1;34m(self, timestr, default, ignoretz, tzinfos, **kwargs)\u001b[0m\n\u001b[0;32m    648\u001b[0m \u001b[38;5;28;01mtry\u001b[39;00m:\n\u001b[1;32m--> 649\u001b[0m     ret \u001b[38;5;241m=\u001b[39m \u001b[38;5;28;43mself\u001b[39;49m\u001b[38;5;241;43m.\u001b[39;49m\u001b[43m_build_naive\u001b[49m\u001b[43m(\u001b[49m\u001b[43mres\u001b[49m\u001b[43m,\u001b[49m\u001b[43m \u001b[49m\u001b[43mdefault\u001b[49m\u001b[43m)\u001b[49m\n\u001b[0;32m    650\u001b[0m \u001b[38;5;28;01mexcept\u001b[39;00m \u001b[38;5;167;01mValueError\u001b[39;00m \u001b[38;5;28;01mas\u001b[39;00m e:\n",
      "File \u001b[1;32m~\\anaconda3\\lib\\site-packages\\dateutil\\parser\\_parser.py:1235\u001b[0m, in \u001b[0;36mparser._build_naive\u001b[1;34m(self, res, default)\u001b[0m\n\u001b[0;32m   1233\u001b[0m         repl[\u001b[38;5;124m'\u001b[39m\u001b[38;5;124mday\u001b[39m\u001b[38;5;124m'\u001b[39m] \u001b[38;5;241m=\u001b[39m monthrange(cyear, cmonth)[\u001b[38;5;241m1\u001b[39m]\n\u001b[1;32m-> 1235\u001b[0m naive \u001b[38;5;241m=\u001b[39m default\u001b[38;5;241m.\u001b[39mreplace(\u001b[38;5;241m*\u001b[39m\u001b[38;5;241m*\u001b[39mrepl)\n\u001b[0;32m   1237\u001b[0m \u001b[38;5;28;01mif\u001b[39;00m res\u001b[38;5;241m.\u001b[39mweekday \u001b[38;5;129;01mis\u001b[39;00m \u001b[38;5;129;01mnot\u001b[39;00m \u001b[38;5;28;01mNone\u001b[39;00m \u001b[38;5;129;01mand\u001b[39;00m \u001b[38;5;129;01mnot\u001b[39;00m res\u001b[38;5;241m.\u001b[39mday:\n",
      "\u001b[1;31mValueError\u001b[0m: day is out of range for month",
      "\nThe above exception was the direct cause of the following exception:\n",
      "\u001b[1;31mParserError\u001b[0m                               Traceback (most recent call last)",
      "File \u001b[1;32m~\\anaconda3\\lib\\site-packages\\pandas\\_libs\\tslibs\\conversion.pyx:649\u001b[0m, in \u001b[0;36mpandas._libs.tslibs.conversion._convert_str_to_tsobject\u001b[1;34m()\u001b[0m\n",
      "File \u001b[1;32m~\\anaconda3\\lib\\site-packages\\pandas\\_libs\\tslibs\\parsing.pyx:281\u001b[0m, in \u001b[0;36mpandas._libs.tslibs.parsing.parse_datetime_string\u001b[1;34m()\u001b[0m\n",
      "File \u001b[1;32m~\\anaconda3\\lib\\site-packages\\dateutil\\parser\\_parser.py:1368\u001b[0m, in \u001b[0;36mparse\u001b[1;34m(timestr, parserinfo, **kwargs)\u001b[0m\n\u001b[0;32m   1367\u001b[0m \u001b[38;5;28;01melse\u001b[39;00m:\n\u001b[1;32m-> 1368\u001b[0m     \u001b[38;5;28;01mreturn\u001b[39;00m DEFAULTPARSER\u001b[38;5;241m.\u001b[39mparse(timestr, \u001b[38;5;241m*\u001b[39m\u001b[38;5;241m*\u001b[39mkwargs)\n",
      "File \u001b[1;32m~\\anaconda3\\lib\\site-packages\\dateutil\\parser\\_parser.py:651\u001b[0m, in \u001b[0;36mparser.parse\u001b[1;34m(self, timestr, default, ignoretz, tzinfos, **kwargs)\u001b[0m\n\u001b[0;32m    650\u001b[0m \u001b[38;5;28;01mexcept\u001b[39;00m \u001b[38;5;167;01mValueError\u001b[39;00m \u001b[38;5;28;01mas\u001b[39;00m e:\n\u001b[1;32m--> 651\u001b[0m     \u001b[43msix\u001b[49m\u001b[38;5;241;43m.\u001b[39;49m\u001b[43mraise_from\u001b[49m\u001b[43m(\u001b[49m\u001b[43mParserError\u001b[49m\u001b[43m(\u001b[49m\u001b[38;5;28;43mstr\u001b[39;49m\u001b[43m(\u001b[49m\u001b[43me\u001b[49m\u001b[43m)\u001b[49m\u001b[43m \u001b[49m\u001b[38;5;241;43m+\u001b[39;49m\u001b[43m \u001b[49m\u001b[38;5;124;43m\"\u001b[39;49m\u001b[38;5;124;43m: \u001b[39;49m\u001b[38;5;132;43;01m%s\u001b[39;49;00m\u001b[38;5;124;43m\"\u001b[39;49m\u001b[43m,\u001b[49m\u001b[43m \u001b[49m\u001b[43mtimestr\u001b[49m\u001b[43m)\u001b[49m\u001b[43m,\u001b[49m\u001b[43m \u001b[49m\u001b[43me\u001b[49m\u001b[43m)\u001b[49m\n\u001b[0;32m    653\u001b[0m \u001b[38;5;28;01mif\u001b[39;00m \u001b[38;5;129;01mnot\u001b[39;00m ignoretz:\n",
      "File \u001b[1;32m<string>:3\u001b[0m, in \u001b[0;36mraise_from\u001b[1;34m(value, from_value)\u001b[0m\n",
      "\u001b[1;31mParserError\u001b[0m: day is out of range for month: 2020-04-31",
      "\nDuring handling of the above exception, another exception occurred:\n",
      "\u001b[1;31mValueError\u001b[0m                                Traceback (most recent call last)",
      "Input \u001b[1;32mIn [54]\u001b[0m, in \u001b[0;36m<cell line: 1>\u001b[1;34m()\u001b[0m\n\u001b[1;32m----> 1\u001b[0m index_future_dates \u001b[38;5;241m=\u001b[39m \u001b[43mpd\u001b[49m\u001b[38;5;241;43m.\u001b[39;49m\u001b[43mdate_range\u001b[49m\u001b[43m(\u001b[49m\u001b[43mstart\u001b[49m\u001b[43m \u001b[49m\u001b[38;5;241;43m=\u001b[39;49m\u001b[43m \u001b[49m\u001b[38;5;124;43m'\u001b[39;49m\u001b[38;5;124;43m2019-11-11\u001b[39;49m\u001b[38;5;124;43m'\u001b[39;49m\u001b[43m,\u001b[49m\u001b[43mend\u001b[49m\u001b[43m \u001b[49m\u001b[38;5;241;43m=\u001b[39;49m\u001b[43m \u001b[49m\u001b[38;5;124;43m'\u001b[39;49m\u001b[38;5;124;43m2020-04-31\u001b[39;49m\u001b[38;5;124;43m'\u001b[39;49m\u001b[43m)\u001b[49m\n\u001b[0;32m      2\u001b[0m \u001b[38;5;66;03m#print(index_future_dates)\u001b[39;00m\n\u001b[0;32m      3\u001b[0m pred \u001b[38;5;241m=\u001b[39m model2\u001b[38;5;241m.\u001b[39mpredict(start\u001b[38;5;241m=\u001b[39m\u001b[38;5;28mlen\u001b[39m(df),end\u001b[38;5;241m=\u001b[39m\u001b[38;5;28mlen\u001b[39m(df)\u001b[38;5;241m+\u001b[39m\u001b[38;5;241m12\u001b[39m,typ\u001b[38;5;241m=\u001b[39m\u001b[38;5;124m'\u001b[39m\u001b[38;5;124mlevels\u001b[39m\u001b[38;5;124m'\u001b[39m)\u001b[38;5;241m.\u001b[39mrename(\u001b[38;5;124m'\u001b[39m\u001b[38;5;124mARIMA Predictions\u001b[39m\u001b[38;5;124m'\u001b[39m)\n",
      "File \u001b[1;32m~\\anaconda3\\lib\\site-packages\\pandas\\core\\indexes\\datetimes.py:1070\u001b[0m, in \u001b[0;36mdate_range\u001b[1;34m(start, end, periods, freq, tz, normalize, name, closed, inclusive, **kwargs)\u001b[0m\n\u001b[0;32m   1067\u001b[0m \u001b[38;5;28;01mif\u001b[39;00m freq \u001b[38;5;129;01mis\u001b[39;00m \u001b[38;5;28;01mNone\u001b[39;00m \u001b[38;5;129;01mand\u001b[39;00m com\u001b[38;5;241m.\u001b[39many_none(periods, start, end):\n\u001b[0;32m   1068\u001b[0m     freq \u001b[38;5;241m=\u001b[39m \u001b[38;5;124m\"\u001b[39m\u001b[38;5;124mD\u001b[39m\u001b[38;5;124m\"\u001b[39m\n\u001b[1;32m-> 1070\u001b[0m dtarr \u001b[38;5;241m=\u001b[39m DatetimeArray\u001b[38;5;241m.\u001b[39m_generate_range(\n\u001b[0;32m   1071\u001b[0m     start\u001b[38;5;241m=\u001b[39mstart,\n\u001b[0;32m   1072\u001b[0m     end\u001b[38;5;241m=\u001b[39mend,\n\u001b[0;32m   1073\u001b[0m     periods\u001b[38;5;241m=\u001b[39mperiods,\n\u001b[0;32m   1074\u001b[0m     freq\u001b[38;5;241m=\u001b[39mfreq,\n\u001b[0;32m   1075\u001b[0m     tz\u001b[38;5;241m=\u001b[39mtz,\n\u001b[0;32m   1076\u001b[0m     normalize\u001b[38;5;241m=\u001b[39mnormalize,\n\u001b[0;32m   1077\u001b[0m     inclusive\u001b[38;5;241m=\u001b[39minclusive,\n\u001b[0;32m   1078\u001b[0m     \u001b[38;5;241m*\u001b[39m\u001b[38;5;241m*\u001b[39mkwargs,\n\u001b[0;32m   1079\u001b[0m )\n\u001b[0;32m   1080\u001b[0m \u001b[38;5;28;01mreturn\u001b[39;00m DatetimeIndex\u001b[38;5;241m.\u001b[39m_simple_new(dtarr, name\u001b[38;5;241m=\u001b[39mname)\n",
      "File \u001b[1;32m~\\anaconda3\\lib\\site-packages\\pandas\\core\\arrays\\datetimes.py:415\u001b[0m, in \u001b[0;36mDatetimeArray._generate_range\u001b[1;34m(cls, start, end, periods, freq, tz, normalize, ambiguous, nonexistent, inclusive)\u001b[0m\n\u001b[0;32m    412\u001b[0m     start \u001b[38;5;241m=\u001b[39m Timestamp(start)\n\u001b[0;32m    414\u001b[0m \u001b[38;5;28;01mif\u001b[39;00m end \u001b[38;5;129;01mis\u001b[39;00m \u001b[38;5;129;01mnot\u001b[39;00m \u001b[38;5;28;01mNone\u001b[39;00m:\n\u001b[1;32m--> 415\u001b[0m     end \u001b[38;5;241m=\u001b[39m \u001b[43mTimestamp\u001b[49m\u001b[43m(\u001b[49m\u001b[43mend\u001b[49m\u001b[43m)\u001b[49m\n\u001b[0;32m    417\u001b[0m \u001b[38;5;28;01mif\u001b[39;00m start \u001b[38;5;129;01mis\u001b[39;00m NaT \u001b[38;5;129;01mor\u001b[39;00m end \u001b[38;5;129;01mis\u001b[39;00m NaT:\n\u001b[0;32m    418\u001b[0m     \u001b[38;5;28;01mraise\u001b[39;00m \u001b[38;5;167;01mValueError\u001b[39;00m(\u001b[38;5;124m\"\u001b[39m\u001b[38;5;124mNeither `start` nor `end` can be NaT\u001b[39m\u001b[38;5;124m\"\u001b[39m)\n",
      "File \u001b[1;32m~\\anaconda3\\lib\\site-packages\\pandas\\_libs\\tslibs\\timestamps.pyx:1399\u001b[0m, in \u001b[0;36mpandas._libs.tslibs.timestamps.Timestamp.__new__\u001b[1;34m()\u001b[0m\n",
      "File \u001b[1;32m~\\anaconda3\\lib\\site-packages\\pandas\\_libs\\tslibs\\conversion.pyx:408\u001b[0m, in \u001b[0;36mpandas._libs.tslibs.conversion.convert_to_tsobject\u001b[1;34m()\u001b[0m\n",
      "File \u001b[1;32m~\\anaconda3\\lib\\site-packages\\pandas\\_libs\\tslibs\\conversion.pyx:652\u001b[0m, in \u001b[0;36mpandas._libs.tslibs.conversion._convert_str_to_tsobject\u001b[1;34m()\u001b[0m\n",
      "\u001b[1;31mValueError\u001b[0m: could not convert string to Timestamp"
     ]
    }
   ],
   "source": [
    "index_future_dates = pd.date_range(start = '2019-11-11',end = '2020-04-31')\n",
    "#print(index_future_dates)\n",
    "pred = model2.predict(start=len(df),end=len(df)+12,typ='levels').rename('ARIMA Predictions')\n",
    "#print(comp_pred)\n",
    "pred.index = index_future_dates\n",
    "#print(comp_pred)"
   ]
  },
  {
   "cell_type": "code",
   "execution_count": null,
   "id": "02067d07",
   "metadata": {},
   "outputs": [],
   "source": []
  },
  {
   "cell_type": "code",
   "execution_count": null,
   "id": "7b0e4a22",
   "metadata": {},
   "outputs": [],
   "source": []
  },
  {
   "cell_type": "code",
   "execution_count": 55,
   "id": "9b240d50",
   "metadata": {},
   "outputs": [],
   "source": [
    "from pandas.tseries.offsets import DateOffset\n",
    "future_dates = [df.index[-1] + DateOffset(weeks = x) for x in range(0,12)]"
   ]
  },
  {
   "cell_type": "code",
   "execution_count": 56,
   "id": "7aba26f2",
   "metadata": {},
   "outputs": [
    {
     "data": {
      "text/plain": [
       "[Timestamp('2019-11-11 00:00:00'),\n",
       " Timestamp('2019-11-18 00:00:00'),\n",
       " Timestamp('2019-11-25 00:00:00'),\n",
       " Timestamp('2019-12-02 00:00:00'),\n",
       " Timestamp('2019-12-09 00:00:00'),\n",
       " Timestamp('2019-12-16 00:00:00'),\n",
       " Timestamp('2019-12-23 00:00:00'),\n",
       " Timestamp('2019-12-30 00:00:00'),\n",
       " Timestamp('2020-01-06 00:00:00'),\n",
       " Timestamp('2020-01-13 00:00:00'),\n",
       " Timestamp('2020-01-20 00:00:00'),\n",
       " Timestamp('2020-01-27 00:00:00')]"
      ]
     },
     "execution_count": 56,
     "metadata": {},
     "output_type": "execute_result"
    }
   ],
   "source": [
    "future_dates"
   ]
  },
  {
   "cell_type": "code",
   "execution_count": 70,
   "id": "39deaa41",
   "metadata": {},
   "outputs": [
    {
     "name": "stdout",
     "output_type": "stream",
     "text": [
      "2019-11-11    2.612617e+06\n",
      "2019-11-18    2.586231e+06\n",
      "2019-11-25    2.529963e+06\n",
      "2019-12-02    2.478504e+06\n",
      "2019-12-09    2.433849e+06\n",
      "2019-12-16    2.390774e+06\n",
      "2019-12-23    2.351038e+06\n",
      "2019-12-30    2.314106e+06\n",
      "2020-01-06    2.279706e+06\n",
      "2020-01-13    2.247730e+06\n",
      "2020-01-20    2.217985e+06\n",
      "2020-01-27    2.190318e+06\n",
      "Name: ARIMA Predictions, dtype: float64\n"
     ]
    }
   ],
   "source": [
    "pred = model2.predict(start=len(df),end=len(df)+11,typ='levels').rename('ARIMA Predictions')\n",
    "pred.index = future_dates\n",
    "print(pred)"
   ]
  },
  {
   "cell_type": "code",
   "execution_count": 71,
   "id": "4938f31a",
   "metadata": {},
   "outputs": [
    {
     "data": {
      "text/plain": [
       "<AxesSubplot:>"
      ]
     },
     "execution_count": 71,
     "metadata": {},
     "output_type": "execute_result"
    },
    {
     "data": {
      "image/png": "[encoded data removed]",
      "text/plain": [
       "<Figure size 864x360 with 1 Axes>"
      ]
     },
     "metadata": {
      "needs_background": "light"
     },
     "output_type": "display_data"
    }
   ],
   "source": [
    "pred.plot(figsize = (12,5), legend = True)"
   ]
  },
  {
   "cell_type": "code",
   "execution_count": null,
   "id": "51d50e09",
   "metadata": {},
   "outputs": [],
   "source": []
  }
 ],
 "metadata": {
  "kernelspec": {
   "display_name": "Python 3 (ipykernel)",
   "language": "python",
   "name": "python3"
  },
  "language_info": {
   "codemirror_mode": {
    "name": "ipython",
    "version": 3
   },
   "file_extension": ".py",
   "mimetype": "text/x-python",
   "name": "python",
   "nbconvert_exporter": "python",
   "pygments_lexer": "ipython3",
   "version": "3.9.12"
  }
 },
 "nbformat": 4,
 "nbformat_minor": 5
}
